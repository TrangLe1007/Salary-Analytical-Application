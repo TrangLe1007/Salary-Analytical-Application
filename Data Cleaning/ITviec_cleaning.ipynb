{
 "cells": [
  {
   "cell_type": "code",
   "execution_count": 1,
   "metadata": {},
   "outputs": [],
   "source": [
    "import csv\n",
    "import pandas as pd\n",
    "\n",
    "\n",
    "#Remove duplicate rows\n",
    "path='E:\\LAB\\LAB\\Thesis\\Code App\\Data Scrapping\\IT_job_Database - Staging.csv'\n",
    "\n",
    "with open(path, 'r',encoding='utf-8-sig') as infile, open('ITviec_database_without_duplicate_check.csv', 'w', newline='\\n',encoding='utf-8-sig') as outfile:\n",
    "    # this list will hold unique title\n",
    "    job_link_lst = []\n",
    "    # read input file into a dictionary\n",
    "    results = csv.DictReader(infile)\n",
    "    writer = csv.writer(outfile)\n",
    "\n",
    "    # write column headers to output file\n",
    "    writer.writerow(\n",
    "        ['', 'Title_job', 'Job_link', 'Company_link', 'Address', 'Salary', 'date']\n",
    "    )\n",
    "    for result in results:\n",
    "        job_link = result.get('Job_link') \n",
    "        # if value already exists in the list, skip writing it whole row to output file\n",
    "        if job_link in job_link_lst:\n",
    "            continue\n",
    "   \n",
    "        writer.writerow([\n",
    "            result.get(''),\n",
    "            result.get('Title_job'),\n",
    "            job_link,\n",
    "            result.get('Company_link'),\n",
    "            result.get('Address'),\n",
    "            result.get('Salary'),\n",
    "            result.get('date')\n",
    "        ])\n",
    "\n",
    "        # add the value to the list to so as to be skipped subsequently\n",
    "        job_link_lst.append(job_link)"
   ]
  },
  {
   "cell_type": "code",
   "execution_count": 26,
   "metadata": {},
   "outputs": [
    {
     "data": {
      "text/plain": [
       "1101"
      ]
     },
     "execution_count": 26,
     "metadata": {},
     "output_type": "execute_result"
    }
   ],
   "source": [
    "#read data\n",
    "path_check='E:\\LAB\\LAB\\Thesis\\Code App\\Data Cleaning\\ITviec_database_without_duplicate_check copy.csv'\n",
    "data= pd.read_csv(path_check)\n",
    "#set seed for reproductibility\n",
    "np.random.seed(0)\n",
    "#count the number of missing data points per colum\n",
    "missing_value= data.isnull().sum()\n",
    "# how many total missing\n",
    "total_missing=missing_value.sum()\n",
    "#remove the row that containing the missing value\n",
    "data=data.dropna()\n",
    "#delete the invalid data in salary column\n",
    "data= data.set_index('Salary')\n",
    "data=data.drop(\"You'll love it\")\n",
    "s\n",
    "len(data)"
   ]
  },
  {
   "cell_type": "code",
   "execution_count": null,
   "metadata": {},
   "outputs": [],
   "source": []
  }
 ],
 "metadata": {
  "interpreter": {
   "hash": "66f0e4740112f73d64848fa8e78a8f4b7c0200cac258dd555921115ecbad10ea"
  },
  "kernelspec": {
   "display_name": "Python 3.8.8 64-bit ('base': conda)",
   "name": "python3"
  },
  "language_info": {
   "codemirror_mode": {
    "name": "ipython",
    "version": 3
   },
   "file_extension": ".py",
   "mimetype": "text/x-python",
   "name": "python",
   "nbconvert_exporter": "python",
   "pygments_lexer": "ipython3",
   "version": "3.8.8"
  },
  "orig_nbformat": 4
 },
 "nbformat": 4,
 "nbformat_minor": 2
}
