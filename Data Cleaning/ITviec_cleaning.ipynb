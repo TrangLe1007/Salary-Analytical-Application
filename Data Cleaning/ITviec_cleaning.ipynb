{
 "cells": [
  {
   "cell_type": "code",
   "execution_count": 1,
   "source": [
    "import csv\r\n",
    "import pandas as pd\r\n",
    "import numpy as np\r\n",
    "\r\n",
    "#Remove duplicate rows\r\n",
    "path='E:\\LAB\\LAB\\Thesis\\Code App\\Data Scrapping\\IT_job_Database - Staging.csv'\r\n",
    "\r\n",
    "with open(path, 'r',encoding='utf-8-sig') as infile, open('ITviec_database_without_duplicate_check.csv', 'w', newline='\\n',encoding='utf-8-sig') as outfile:\r\n",
    "    # this list will hold unique title\r\n",
    "    job_link_lst = []\r\n",
    "    # read input file into a dictionary\r\n",
    "    results = csv.DictReader(infile)\r\n",
    "    writer = csv.writer(outfile)\r\n",
    "\r\n",
    "    # write column headers to output file\r\n",
    "    writer.writerow(\r\n",
    "        ['', 'Title_job', 'Job_link', 'Company_link', 'Address', 'Salary', 'date']\r\n",
    "    )\r\n",
    "    for result in results:\r\n",
    "        job_link = result.get('Job_link') \r\n",
    "        # if value already exists in the list, skip writing it whole row to output file\r\n",
    "        if job_link in job_link_lst:\r\n",
    "            continue\r\n",
    "   \r\n",
    "        writer.writerow([\r\n",
    "            result.get(''),\r\n",
    "            result.get('Title_job'),\r\n",
    "            job_link,\r\n",
    "            result.get('Company_link'),\r\n",
    "            result.get('Address'),\r\n",
    "            result.get('Salary'),\r\n",
    "            result.get('date')\r\n",
    "        ])\r\n",
    "\r\n",
    "        # add the value to the list to so as to be skipped subsequently\r\n",
    "        job_link_lst.append(job_link)"
   ],
   "outputs": [],
   "metadata": {}
  },
  {
   "cell_type": "code",
   "execution_count": 26,
   "source": [
    "#read data\r\n",
    "path_check='E:\\LAB\\LAB\\Thesis\\Code App\\Data Cleaning\\ITviec_database_without_duplicate_check copy.csv'\r\n",
    "data= pd.read_csv(path_check)\r\n",
    "#set seed for reproductibility\r\n",
    "np.random.seed(0)\r\n",
    "#count the number of missing data points per colum\r\n",
    "missing_value= data.isnull().sum()\r\n",
    "# how many total missing\r\n",
    "total_missing=missing_value.sum()\r\n",
    "#remove the row that containing the missing value\r\n",
    "data=data.dropna()\r\n",
    "#delete the invalid data in salary column\r\n",
    "data= data.set_index('Salary')\r\n",
    "data=data.drop(\"You'll love it\")\r\n",
    "ĂT\r\n",
    "len(data)"
   ],
   "outputs": [
    {
     "output_type": "execute_result",
     "data": {
      "text/plain": [
       "1101"
      ]
     },
     "metadata": {},
     "execution_count": 26
    }
   ],
   "metadata": {}
  },
  {
   "cell_type": "code",
   "execution_count": null,
   "source": [],
   "outputs": [],
   "metadata": {}
  }
 ],
 "metadata": {
  "orig_nbformat": 4,
  "language_info": {
   "name": "python",
   "version": "3.8.8",
   "mimetype": "text/x-python",
   "codemirror_mode": {
    "name": "ipython",
    "version": 3
   },
   "pygments_lexer": "ipython3",
   "nbconvert_exporter": "python",
   "file_extension": ".py"
  },
  "kernelspec": {
   "name": "python3",
   "display_name": "Python 3.8.8 64-bit ('base': conda)"
  },
  "interpreter": {
   "hash": "66f0e4740112f73d64848fa8e78a8f4b7c0200cac258dd555921115ecbad10ea"
  }
 },
 "nbformat": 4,
 "nbformat_minor": 2
}