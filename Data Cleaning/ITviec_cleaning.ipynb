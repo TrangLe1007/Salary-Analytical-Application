{
 "cells": [
  {
   "cell_type": "code",
   "execution_count": 4,
   "source": [
    "#Remove duplicate rows\r\n",
    "import csv\r\n",
    "path='E:\\LAB\\LAB\\Thesis\\Code App\\Data Scrapping\\IT_job_Database - Staging.csv'\r\n",
    "\r\n",
    "with open(path, 'r',encoding='utf-8-sig') as infile, open('ITviec_database_without_duplicate_check.csv', 'w', newline='\\n',encoding='utf-8-sig') as outfile:\r\n",
    "    # this list will hold unique title\r\n",
    "    job_link_lst = []\r\n",
    "    # read input file into a dictionary\r\n",
    "    results = csv.DictReader(infile)\r\n",
    "    writer = csv.writer(outfile)\r\n",
    "\r\n",
    "    # write column headers to output file\r\n",
    "    writer.writerow(\r\n",
    "        ['', 'Title_job', 'Job_link', 'Company_link', 'Address', 'Salary', 'date']\r\n",
    "    )\r\n",
    "    for result in results:\r\n",
    "        job_link = result.get('Job_link') \r\n",
    "        # if value already exists in the list, skip writing it whole row to output file\r\n",
    "        if job_link in job_link_lst:\r\n",
    "            continue\r\n",
    "   \r\n",
    "        writer.writerow([\r\n",
    "            result.get(''),\r\n",
    "            result.get('Title_job'),\r\n",
    "            job_link,\r\n",
    "            result.get('Company_link'),\r\n",
    "            result.get('Address'),\r\n",
    "            result.get('Salary'),\r\n",
    "            result.get('date')\r\n",
    "        ])\r\n",
    "\r\n",
    "        # add the value to the list to so as to be skipped subsequently\r\n",
    "        job_link_lst.append(job_link)"
   ],
   "outputs": [],
   "metadata": {}
  },
  {
   "cell_type": "code",
   "execution_count": 35,
   "source": [
    "with open('ITviec_database_without_duplicate.csv', 'w', newline='\\n',encoding='utf-8-sig') as outfile\r\n",
    "    for line in outfile:\r\n",
    "        writer.write(result.replace('$', 'USD'))\r\n",
    "results.close()\r\n",
    "writer.close()"
   ],
   "outputs": [
    {
     "output_type": "error",
     "ename": "ValueError",
     "evalue": "I/O operation on closed file.",
     "traceback": [
      "\u001b[1;31m---------------------------------------------------------------------------\u001b[0m",
      "\u001b[1;31mValueError\u001b[0m                                Traceback (most recent call last)",
      "\u001b[1;32m<ipython-input-35-3f0f92a7d292>\u001b[0m in \u001b[0;36m<module>\u001b[1;34m\u001b[0m\n\u001b[1;32m----> 1\u001b[1;33m \u001b[1;32mfor\u001b[0m \u001b[0mresult\u001b[0m \u001b[1;32min\u001b[0m \u001b[0mresults\u001b[0m\u001b[1;33m:\u001b[0m\u001b[1;33m\u001b[0m\u001b[1;33m\u001b[0m\u001b[0m\n\u001b[0m\u001b[0;32m      2\u001b[0m     \u001b[0mwriter\u001b[0m\u001b[1;33m.\u001b[0m\u001b[0mwrite\u001b[0m\u001b[1;33m(\u001b[0m\u001b[0mresult\u001b[0m\u001b[1;33m.\u001b[0m\u001b[0mreplace\u001b[0m\u001b[1;33m(\u001b[0m\u001b[1;34m'$'\u001b[0m\u001b[1;33m,\u001b[0m \u001b[1;34m'USD'\u001b[0m\u001b[1;33m)\u001b[0m\u001b[1;33m)\u001b[0m\u001b[1;33m\u001b[0m\u001b[1;33m\u001b[0m\u001b[0m\n\u001b[0;32m      3\u001b[0m \u001b[0mresults\u001b[0m\u001b[1;33m.\u001b[0m\u001b[0mclose\u001b[0m\u001b[1;33m(\u001b[0m\u001b[1;33m)\u001b[0m\u001b[1;33m\u001b[0m\u001b[1;33m\u001b[0m\u001b[0m\n\u001b[0;32m      4\u001b[0m \u001b[0mwriter\u001b[0m\u001b[1;33m.\u001b[0m\u001b[0mclose\u001b[0m\u001b[1;33m(\u001b[0m\u001b[1;33m)\u001b[0m\u001b[1;33m\u001b[0m\u001b[1;33m\u001b[0m\u001b[0m\n",
      "\u001b[1;32mD:\\Platform\\Anaconda\\lib\\csv.py\u001b[0m in \u001b[0;36m__next__\u001b[1;34m(self)\u001b[0m\n\u001b[0;32m    109\u001b[0m             \u001b[1;31m# Used only for its side effect.\u001b[0m\u001b[1;33m\u001b[0m\u001b[1;33m\u001b[0m\u001b[1;33m\u001b[0m\u001b[0m\n\u001b[0;32m    110\u001b[0m             \u001b[0mself\u001b[0m\u001b[1;33m.\u001b[0m\u001b[0mfieldnames\u001b[0m\u001b[1;33m\u001b[0m\u001b[1;33m\u001b[0m\u001b[0m\n\u001b[1;32m--> 111\u001b[1;33m         \u001b[0mrow\u001b[0m \u001b[1;33m=\u001b[0m \u001b[0mnext\u001b[0m\u001b[1;33m(\u001b[0m\u001b[0mself\u001b[0m\u001b[1;33m.\u001b[0m\u001b[0mreader\u001b[0m\u001b[1;33m)\u001b[0m\u001b[1;33m\u001b[0m\u001b[1;33m\u001b[0m\u001b[0m\n\u001b[0m\u001b[0;32m    112\u001b[0m         \u001b[0mself\u001b[0m\u001b[1;33m.\u001b[0m\u001b[0mline_num\u001b[0m \u001b[1;33m=\u001b[0m \u001b[0mself\u001b[0m\u001b[1;33m.\u001b[0m\u001b[0mreader\u001b[0m\u001b[1;33m.\u001b[0m\u001b[0mline_num\u001b[0m\u001b[1;33m\u001b[0m\u001b[1;33m\u001b[0m\u001b[0m\n\u001b[0;32m    113\u001b[0m \u001b[1;33m\u001b[0m\u001b[0m\n",
      "\u001b[1;31mValueError\u001b[0m: I/O operation on closed file."
     ]
    }
   ],
   "metadata": {}
  }
 ],
 "metadata": {
  "orig_nbformat": 4,
  "language_info": {
   "name": "python",
   "version": "3.8.8",
   "mimetype": "text/x-python",
   "codemirror_mode": {
    "name": "ipython",
    "version": 3
   },
   "pygments_lexer": "ipython3",
   "nbconvert_exporter": "python",
   "file_extension": ".py"
  },
  "kernelspec": {
   "name": "python3",
   "display_name": "Python 3.8.8 64-bit ('base': conda)"
  },
  "interpreter": {
   "hash": "66f0e4740112f73d64848fa8e78a8f4b7c0200cac258dd555921115ecbad10ea"
  }
 },
 "nbformat": 4,
 "nbformat_minor": 2
}